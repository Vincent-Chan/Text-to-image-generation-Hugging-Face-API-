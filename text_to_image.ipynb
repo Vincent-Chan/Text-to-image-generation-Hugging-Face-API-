{
  "nbformat": 4,
  "nbformat_minor": 0,
  "metadata": {
    "colab": {
      "provenance": [],
      "gpuType": "T4"
    },
    "kernelspec": {
      "name": "python3",
      "display_name": "Python 3"
    },
    "language_info": {
      "name": "python"
    },
    "accelerator": "GPU"
  },
  "cells": [
    {
      "cell_type": "code",
      "source": [
        "# https://huggingface.co/blog/stable_diffusion"
      ],
      "metadata": {
        "id": "pnOZkQ61SYiK"
      },
      "execution_count": 1,
      "outputs": []
    },
    {
      "cell_type": "code",
      "source": [
        "!pip install diffusers==0.10.2 transformers scipy ftfy accelerate"
      ],
      "metadata": {
        "id": "48nE_DuIW5_h"
      },
      "execution_count": null,
      "outputs": []
    },
    {
      "cell_type": "code",
      "source": [
        "from diffusers import DiffusionPipeline\n",
        "import torch\n",
        "\n",
        "from PIL import Image\n",
        "import PIL"
      ],
      "metadata": {
        "id": "WVOn7AdB8d3P"
      },
      "execution_count": null,
      "outputs": []
    },
    {
      "cell_type": "code",
      "source": [
        "pipeline = DiffusionPipeline.from_pretrained(\"runwayml/stable-diffusion-v1-5\", torch_dtype=torch.float16)\n",
        "pipeline.to(\"cuda\")"
      ],
      "metadata": {
        "id": "2PjzKpT--Dfi"
      },
      "execution_count": null,
      "outputs": []
    },
    {
      "cell_type": "code",
      "source": [
        "def main():\n",
        "    while True:\n",
        "        prompt = input(\"Please describe the image that you want the AI to draw (type 'q' to terminate the program): \\n\")\n",
        "\n",
        "        if prompt.lower() == \"q\":\n",
        "            break\n",
        "\n",
        "        image = pipeline(prompt).images[0]\n",
        "        image.save(prompt+\".png\")\n",
        "\n",
        "    print(\"The program is successfully terminated!\")"
      ],
      "metadata": {
        "id": "nMhgAPPUpL1P"
      },
      "execution_count": 5,
      "outputs": []
    },
    {
      "cell_type": "code",
      "source": [
        "if __name__ == \"__main__\":\n",
        "    main()"
      ],
      "metadata": {
        "id": "-L5jcL__8oqM"
      },
      "execution_count": null,
      "outputs": []
    }
  ]
}